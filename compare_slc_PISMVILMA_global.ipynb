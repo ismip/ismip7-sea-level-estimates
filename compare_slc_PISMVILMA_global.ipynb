{
 "cells": [
  {
   "cell_type": "markdown",
   "metadata": {
    "tags": []
   },
   "source": [
    "<div class=\"well well-lg\"><h1>Comparison of modified methods to calculate sea level contributions on global grid</h1></div>"
   ]
  },
  {
   "cell_type": "markdown",
   "metadata": {},
   "source": [
    "This notebook calulates sea-level contributions from an extended ISMIP6 projections, \n",
    "- using different methods (defined in slc) and for \n",
    "- different regions (global, southpolar ISMIP region, rest of the world and along coast lines)"
   ]
  },
  {
   "cell_type": "markdown",
   "metadata": {},
   "source": [
    "\n",
    "contact: \n",
    "- Torsten Albrecht (torsten.albrecht@pik-potsdam.de) | Potsdam Institute for Climate Impact Research (PIK) and \n",
    "- Heio Goelzer (HEIG@norceresearch.no) | Norwegian Research Centre (NORCE), Affiliated Bjerknes Centre for Climate Research\n",
    "\n",
    "<div class=\"alert alert-info\">\n",
    "CC-BY: Creative Commons Attribution 4.0 International  \n",
    "</div>"
   ]
  },
  {
   "cell_type": "code",
   "execution_count": null,
   "metadata": {},
   "outputs": [],
   "source": [
    "import matplotlib.pylab as plt\n",
    "from matplotlib import cm, colors\n",
    "import netCDF4 as nc\n",
    "import numpy as np\n",
    "import os, glob\n",
    "\n",
    "# SL methods\n",
    "from slc import slc_vaf\n",
    "from slc import slc_G2020_publ\n",
    "from slc import slc_G2020\n",
    "from slc import slc_A2020\n",
    "\n",
    "# Get constants\n",
    "from slc import sl_constants as c\n",
    "\n",
    "# Plotting\n",
    "from slc import plotting"
   ]
  },
  {
   "cell_type": "code",
   "execution_count": null,
   "metadata": {},
   "outputs": [],
   "source": [
    "# Parameters\n",
    "#clat=-50 # -50°S\n",
    "#clat=-55\n",
    "#clat=-59 \n",
    "#clat=-60\n",
    "#clat=-65"
   ]
  },
  {
   "cell_type": "code",
   "execution_count": null,
   "metadata": {},
   "outputs": [],
   "source": [
    "# Main data path\n",
    "#datapath = \"..\"\n",
    "datapath = \"/data/projects/ismip7sealevel/files\""
   ]
  },
  {
   "cell_type": "code",
   "execution_count": null,
   "metadata": {},
   "outputs": [],
   "source": [
    "# Relative reference frame for Vaf and G2020\n",
    "def get_slc_estimates(H0,H,B0,B,S0,S,zn0,zn,A):\n",
    "\n",
    "    slc_af = slc_vaf.get_slc_vaf_HBA(H0,H,B0,B,A)\n",
    "    slc_a2020 = slc_A2020.get_slc_A2020(H0,H,B0,B,S0,S,A)\n",
    "    slc_g2020 = slc_G2020.get_slc_G2020_publ(H0,H,B0,B,zn0,zn,A)\n",
    "    slc_diff_ag  = slc_a2020-slc_g2020\n",
    "    slc_diff_va  = slc_af-slc_a2020\n",
    "    slc_diff_vg  = slc_af-slc_g2020\n",
    "\n",
    "    print('sea level change due to VAF:\\t\\t\\t',np.around(slc_af,decimals=4))\n",
    "    print('sea level change due to A2020:\\t\\t\\t',np.around(slc_a2020,decimals=4))\n",
    "    print('sea level change due to G2020:\\t\\t\\t',np.around(slc_g2020,decimals=4))\n",
    "    print('difference vaf-a2020:\\t\\t\\t',np.around(slc_diff_va,decimals=4))\n",
    "    print('difference vaf-g2020:\\t\\t\\t',np.around(slc_diff_vg,decimals=4))\n",
    "    print('difference a2020-g2020:\\t\\t\\t',np.around(slc_diff_ag,decimals=4))\n",
    "    \n",
    "    return (slc_af,slc_g2020,slc_a2020,slc_diff_ag,slc_diff_vg)\n",
    "\n",
    "\n",
    "# Absolute reference frame for Vaf and G2020\n",
    "def get_slc_estimates_abs(H0,H,B0,B,S0,S,A):\n",
    "\n",
    "    slc_af = slc_vaf.get_slc_vaf(H0,H,B0,B,S0,S,A)\n",
    "    slc_a2020 = slc_A2020.get_slc_A2020(H0,H,B0,B,S0,S,A)\n",
    "    slc_g2020 = slc_G2020.get_slc_G2020(H0,H,B0,B,A)\n",
    "    slc_diff_ag  = slc_a2020-slc_g2020\n",
    "    slc_diff_vg  = slc_af-slc_g2020\n",
    "    slc_diff_va  = slc_af-slc_a2020\n",
    "\n",
    "    print('sea level change due to VAF:\\t\\t\\t',np.around(slc_af,decimals=4))\n",
    "    print('sea level change due to A2020:\\t\\t\\t',np.around(slc_a2020,decimals=4))\n",
    "    print('sea level change due to G2020:\\t\\t\\t',np.around(slc_g2020,decimals=4))\n",
    "    print('difference vaf-a2020:\\t\\t\\t',np.around(slc_diff_va,decimals=4))\n",
    "    print('difference vaf-g2020:\\t\\t\\t',np.around(slc_diff_vg,decimals=4))\n",
    "    print('difference a2020-g2020:\\t\\t\\t',np.around(slc_diff_ag,decimals=4))\n",
    "    \n",
    "    return (slc_af,slc_g2020,slc_a2020,slc_diff_ag,slc_diff_vg,slc_diff_va)\n"
   ]
  },
  {
   "cell_type": "markdown",
   "metadata": {},
   "source": [
    "### ISMIP6 2300 contribution by PIK_PISM coupled to VILMA\n",
    " \n",
    "- reference and initial topography in the year 1850 has been optimized in 4 iterations to match present-day observations, coupling interval is 1 yr\n",
    "- forcings is identical to PIK_PISM contribution in Seroussi et al., 2024\n",
    "- here, we compare sea-level contributions in the year 2300 compared to 1850\n",
    "- n256 is a global grid, total ocean and ice mass should be conserved"
   ]
  },
  {
   "cell_type": "code",
   "execution_count": null,
   "metadata": {},
   "outputs": [],
   "source": [
    "# ISMIP6 2300 contribution by PIK_PISM\n",
    "\n",
    "fref =datapath+\"/ismip2300-coupled/pism_vilma_n256_1850.nc\"\n",
    "#\n",
    "f0 =datapath+\"/ismip2300-coupled/pism_vilma_n256_1850.nc\"\n",
    "#f0 =datapath+\"/ismip2300-coupled/pism_vilma_n256_2000.nc\"\n",
    "#f0 =datapath+\"/ismip2300-coupled/pism_vilma_n256_2100.nc\"\n",
    "#f0 =datapath+\"/ismip2300-coupled/pism_vilma_n256_2200.nc\"\n",
    "#\n",
    "#f =datapath+\"/ismip2300-coupled/pism_vilma_n256_2200.nc\"\n",
    "f =datapath+\"/ismip2300-coupled/pism_vilma_n256_2300.nc\"\n",
    "\n",
    "idat = nc.Dataset(fref, 'r')\n",
    "topg_ref_PISM  = idat.variables[\"topg\"][0,:]\n",
    "rsl_ref_PISM  = idat.variables[\"rslc\"][0,:]\n",
    "flg_ref_PISM  = idat.variables[\"flg\"][0,:]\n",
    "idat.close()\n",
    "\n",
    "idat = nc.Dataset(f0, 'r')\n",
    "lithk0_PISM  = idat.variables[\"lithk\"][0,:]\n",
    "topg0_PISM  = idat.variables[\"topg\"][0,:]\n",
    "rsl0_PISM  = idat.variables[\"rslc\"][0,:]\n",
    "ur0_PISM  = idat.variables[\"ur\"][0,:]\n",
    "flg0_PISM  = idat.variables[\"flg\"][0,:]\n",
    "idat.close()\n",
    "H0 = lithk0_PISM.copy()\n",
    "B0 = topg_ref_PISM + ur0_PISM\n",
    "S0 = B0 - topg0_PISM\n",
    "Zn0 = -S0\n",
    "R0 = rsl0_PISM.copy()\n",
    "#O0 = flg0_PISM==1\n",
    "O0 = (flg0_PISM==1) | (flg0_PISM==4)\n",
    "\n",
    "idat = nc.Dataset(f, 'r')\n",
    "lithk_PISM  = idat.variables[\"lithk\"][0,:]\n",
    "topg_PISM  = idat.variables[\"topg\"][0,:]\n",
    "rsl_PISM  = idat.variables[\"rslc\"][0,:]\n",
    "ur_PISM  = idat.variables[\"ur\"][0,:]\n",
    "flg_PISM  = idat.variables[\"flg\"][0,:]\n",
    "vlon1 = idat.variables[\"lon\"][:] #1D\n",
    "vlat1 = idat.variables[\"lat\"][:] #1D\n",
    "idat.close()\n",
    "vlon, vlat = np.meshgrid(vlon1, vlat1, indexing='xy') #2d\n",
    "# in PISM topg=topg_ref-rsl; to determine changes in B and S separately use ur\n",
    "# B=topg_ref_PISM+ur_PISM; S=B-topg_PISM\n",
    "H = lithk_PISM.copy()\n",
    "B = topg_ref_PISM + ur_PISM\n",
    "S = B - topg_PISM\n",
    "Zn = -S\n",
    "R = rsl_PISM.copy()\n",
    "#O = flg_PISM==1\n",
    "O = (flg_PISM==1) | (flg_PISM==4)\n",
    "\n",
    "# coast mask \n",
    "lsm = (flg_ref_PISM==1)\n",
    "#plotting.plot_global(lsm, vlon, vlat)\n",
    "\n",
    "# Circular boundary conditions\n",
    "bnd = np.zeros((1,1024))\n",
    "bnd[:] = lsm[0,:]\n",
    "lsm_ext1 = np.append(lsm, bnd, axis=0)\n",
    "CM1 = np.diff(lsm_ext1,1,0)\n",
    "bnd[:] = lsm[-1,:]\n",
    "lsm_ext2 = np.append(bnd, lsm, axis=0)\n",
    "CM2 = np.diff(lsm_ext2,1,0)\n",
    "bnd = np.zeros((512,1))\n",
    "bnd[:,0] = lsm[:,0]\n",
    "lsm_ext3 = np.append(lsm, bnd, axis=1)\n",
    "CM3 = np.diff(lsm_ext3,1,1)\n",
    "bnd[:,0] = lsm[:,-1]\n",
    "lsm_ext4 = np.append(bnd, lsm, axis=1)\n",
    "CM4 = np.diff(lsm_ext4,1,1)\n",
    "#plotting.plot_global(CM1, vlon, vlat)\n",
    "LMS = np.abs(CM1) + np.abs(CM2) + np.abs(CM3) + np.abs(CM4)\n",
    "LMS = (LMS>0)\n",
    "#plotting.plot_global(LMS, vlon, vlat,'coastlines')\n"
   ]
  },
  {
   "cell_type": "code",
   "execution_count": null,
   "metadata": {},
   "outputs": [],
   "source": [
    "plotting.plot_global(S*O, vlon, vlat,'sea level fingerprint in m')"
   ]
  },
  {
   "cell_type": "code",
   "execution_count": null,
   "metadata": {},
   "outputs": [],
   "source": [
    "plotting.plot_global(R*O, vlon, vlat,'relative sea level over ocean in m')"
   ]
  },
  {
   "cell_type": "code",
   "execution_count": null,
   "metadata": {},
   "outputs": [],
   "source": [
    "# grid generic info\n",
    "\n",
    "pdvfile = datapath+\"/ismip2300-coupled/vilma_n256_cellarea_lonlat2d.nc\"\n",
    "tdat = nc.Dataset(pdvfile, 'r')\n",
    "cav = tdat.variables[\"cell_area\"][:] #2D\n",
    "tdat.close()\n",
    "\n",
    "A = cav\n",
    "\n",
    "mfile = datapath+\"/ismip2300-coupled/ISMIP6_mask_n256.nc\"\n",
    "tdat = nc.Dataset(mfile, 'r')\n",
    "imask = tdat.variables[\"ISMIP6_mask\"][:] #2D\n",
    "tdat.close()\n",
    "#print(np.shape(imask))\n",
    "#print(np.shape(cav))\n",
    "\n",
    "imask = imask.filled(0)\n",
    "#plotting.plot_global(imask, vlon, vlat)\n",
    "\n",
    "LMSA = np.sum(LMS*A)\n",
    "\n",
    "print('Ocean area, without and with ice shelves in the 1850 data, and in constants')\n",
    "print('AOv, AOSv, AO', np.sum(A*((flg_ref_PISM==1)))*1e-12, np.sum(A*((flg_ref_PISM==1) | (flg_ref_PISM==4)))*1e-12,c.AO*1e-12)\n"
   ]
  },
  {
   "cell_type": "code",
   "execution_count": null,
   "metadata": {},
   "outputs": [],
   "source": [
    "## Compare methods global\n",
    "print('# Global # ')\n",
    "print('Earth surface:\\t\\t', np.round(np.sum(A)*1e-12),'million km2\\n')\n",
    "print('Vtot  :\\t\\t\\t',np.around(slc_vaf.get_slc_vtot(H0,H,A),decimals=4),'m SLE')\n",
    "print('Vgr  :\\t\\t\\t',np.around(slc_vaf.get_slc_vgr(H0,H,B0,B,S0,S,A),decimals=4),'m SLE')\n",
    "print('Vaf  :\\t\\t\\t',np.around(slc_vaf.get_slc_vaf(H0,H,B0,B,S0,S,A),decimals=4),'m SLE\\n')\n",
    "print('A2020:\\t\\t\\t',np.around(slc_A2020.get_slc_A2020(H0,H,B0,B,S0,S,A),decimals=4),'m SLE')\n",
    "print('G2020:\\t\\t\\t',np.around(slc_G2020.get_slc_G2020(H0,H,B0,B,A),decimals=4),'m SLE\\n')\n",
    "\n",
    "print('GMSL  :\\t\\t\\t',np.around(slc_vaf.get_mean_diff(R0*O0,R*O,A,c.AO),decimals=4),'m SLE')\n",
    "print('GMSL_abs  :\\t\\t',np.around(slc_vaf.get_mean_diff(S0*O0,S*O,A,c.AO),decimals=4),'m SLE')\n",
    "print('CMSL  :\\t\\t\\t',np.around(slc_vaf.get_mean_diff(R0,R,A*LMS,LMSA),decimals=4),'m SLE')\n",
    "\n",
    "slc_g2020_glob = slc_G2020.get_slc_G2020(H0,H,B0,B,A)\n",
    "slc_gmsl_glob = slc_vaf.get_mean_diff(R0*O0,R*O,A,c.AO)"
   ]
  },
  {
   "cell_type": "markdown",
   "metadata": {},
   "source": [
    "G2020 and A2020 estimate more sea level contributon than VAF.\n",
    "\n",
    "Difference between A2020 and G2020 is mainly due to water expulsion effect, here about 3 cm.\n",
    "\n",
    "Sea-level change along global coastlines (incl. Antarctic coast) is about 25 cm lower than on ocean area average."
   ]
  },
  {
   "cell_type": "code",
   "execution_count": null,
   "metadata": {},
   "outputs": [],
   "source": [
    "print(\"GMSL-GMSL_abs:\",np.around(slc_vaf.get_mean_diff(R0*O0,R*O,A,c.AO)-slc_vaf.get_mean_diff(S0*O0,S*O,A,c.AO),decimals=4))\n",
    "print(\"A2020_glob-G2020_glob:\",np.around(slc_A2020.get_slc_A2020(H0,H,B0,B,S0,S,A)-slc_G2020.get_slc_G2020(H0,H,B0,B,A),decimals=4))"
   ]
  },
  {
   "cell_type": "code",
   "execution_count": null,
   "metadata": {},
   "outputs": [],
   "source": [
    "# PISM mask\n",
    "\n",
    "amask = imask>0.5\n",
    "\n",
    "H0 = lithk0_PISM.copy()\n",
    "B0 = topg_ref_PISM + ur0_PISM\n",
    "S0 = B0 - topg0_PISM\n",
    "Zn0 = -S0\n",
    "R0 = rsl0_PISM.copy()\n",
    "#O0 = flg0_PISM==1\n",
    "O0 = (flg0_PISM==1) | (flg0_PISM==4)\n",
    "H = lithk_PISM.copy()\n",
    "B = topg_ref_PISM + ur_PISM\n",
    "S = B - topg_PISM\n",
    "Zn = -S\n",
    "R = rsl_PISM.copy()\n",
    "#O = flg_PISM==1\n",
    "O = (flg_PISM==1) | (flg_PISM==4)\n",
    "\n",
    "H0 = H0[amask]\n",
    "B0 = B0[amask]\n",
    "S0 = S0[amask]\n",
    "Zn0 = Zn0[amask]\n",
    "R0 = R0[amask]\n",
    "O0 = O0[amask]\n",
    "\n",
    "H = H[amask]\n",
    "B = B[amask]\n",
    "S = S[amask]\n",
    "Zn = Zn[amask]\n",
    "R = R[amask]\n",
    "O = O[amask]\n",
    "\n",
    "A = cav[amask]\n",
    "\n",
    "LMS_i = LMS[amask]\n",
    "LMSA_i = np.sum(LMS_i*A)\n",
    "\n",
    "print('# ISMIP6 grid mask')\n",
    "print('ISMIP6 surface:\\t\\t', np.round(np.sum(A)*1e-12,decimals=4),'million km2\\n')\n",
    "print('Vtot  :\\t\\t\\t',np.around(slc_vaf.get_slc_vtot(H0,H,A),decimals=4))\n",
    "print('Vgr  :\\t\\t\\t',np.around(slc_vaf.get_slc_vgr(H0,H,B0,B,S0,S,A),decimals=4))\n",
    "print('Vaf  :\\t\\t\\t',np.around(slc_vaf.get_slc_vaf(H0,H,B0,B,S0,S,A),decimals=4),'\\n')\n",
    "print('A2020:\\t\\t\\t',np.around(slc_A2020.get_slc_A2020(H0,H,B0,B,S0,S,A),decimals=4))\n",
    "print('G2020:\\t\\t\\t',np.around(slc_G2020.get_slc_G2020(H0,H,B0,B,A),decimals=4),'\\n')\n",
    "\n",
    "print('GMSL  :\\t\\t\\t',np.around(slc_vaf.get_mean_diff(R0*O0,R*O,A,c.AO),decimals=4))\n",
    "print('GMSL_abs  :\\t\\t',np.around(slc_vaf.get_mean_diff(S0*O0,S*O,A,c.AO),decimals=4))\n",
    "print('CMSL  :\\t\\t\\t',np.around(slc_vaf.get_mean_diff(R0,R,A*LMS_i,LMSA_i),decimals=4))\n",
    "\n",
    "plotting.plot_global((amask>0), vlon, vlat,'ISMIP mask')\n"
   ]
  },
  {
   "cell_type": "markdown",
   "metadata": {},
   "source": [
    "A2020 is identical on regional and global grid.\n",
    "\n",
    "G2020 is about 6 cm larger on regional grid than globally, likely due to far-field effects of vertical land motion and sea level."
   ]
  },
  {
   "cell_type": "code",
   "execution_count": null,
   "metadata": {},
   "outputs": [],
   "source": [
    "print(\"G2020_glob-G2020_reg:\",np.around(slc_g2020_glob-slc_G2020.get_slc_G2020(H0,H,B0,B,A),decimals=4))"
   ]
  },
  {
   "cell_type": "code",
   "execution_count": null,
   "metadata": {},
   "outputs": [],
   "source": [
    "# Rest of world\n",
    "\n",
    "amask = imask<0.5\n",
    "\n",
    "H0 = lithk0_PISM.copy()\n",
    "B0 = topg_ref_PISM + ur0_PISM\n",
    "S0 = B0 - topg0_PISM\n",
    "Zn0 = -S0\n",
    "R0 = rsl0_PISM.copy()\n",
    "#O0 = flg0_PISM==1\n",
    "O0 = (flg0_PISM==1) | (flg0_PISM==4)\n",
    "H = lithk_PISM.copy()\n",
    "B = topg_ref_PISM + ur_PISM\n",
    "S = B - topg_PISM\n",
    "Zn = -S\n",
    "R = rsl_PISM.copy()\n",
    "#O = flg_PISM==1\n",
    "O = (flg_PISM==1) | (flg_PISM==4)\n",
    "\n",
    "\n",
    "H0 = H0[amask]\n",
    "B0 = B0[amask]\n",
    "S0 = S0[amask]\n",
    "Zn0 = Zn0[amask]\n",
    "R0 = R0[amask]\n",
    "O0 = O0[amask]\n",
    "\n",
    "H = H[amask]\n",
    "B = B[amask]\n",
    "S = S[amask]\n",
    "Zn = Zn[amask]\n",
    "R = R[amask]\n",
    "O = O[amask]\n",
    "\n",
    "A = cav[amask]\n",
    "\n",
    "LMS_i = LMS[amask]\n",
    "LMSA_i = np.sum(LMS_i*A)\n",
    "\n",
    "\n",
    "print('# Ouside PISM grid' )\n",
    "print('Rest surface:\\t\\t', np.round(np.sum(A)*1e-12),'million km2\\n')\n",
    "print('Vtot  :\\t\\t\\t',np.around(slc_vaf.get_slc_vtot(H0,H,A),decimals=4))\n",
    "print('Vgr  :\\t\\t\\t',np.around(slc_vaf.get_slc_vgr(H0,H,B0,B,S0,S,A),decimals=4))\n",
    "print('Vaf  :\\t\\t\\t',np.around(slc_vaf.get_slc_vaf(H0,H,B0,B,S0,S,A),decimals=4),'\\n')\n",
    "print('A2020:\\t\\t\\t',np.around(slc_A2020.get_slc_A2020(H0,H,B0,B,S0,S,A),decimals=4))\n",
    "print('G2020:\\t\\t\\t',np.around(slc_G2020.get_slc_G2020(H0,H,B0,B,A),decimals=4),'\\n')\n",
    "\n",
    "print('GMSL  :\\t\\t\\t',np.around(slc_vaf.get_mean_diff(R0*O0,R*O,A,c.AO),decimals=4))\n",
    "print('GMSL_abs  :\\t\\t',np.around(slc_vaf.get_mean_diff(S0*O0,S*O,A,c.AO),decimals=4))\n",
    "print('CMSL  :\\t\\t\\t',np.around(slc_vaf.get_mean_diff(R0,R,A*LMS_i,LMSA_i),decimals=4))"
   ]
  },
  {
   "cell_type": "markdown",
   "metadata": {},
   "source": [
    "Sea-level contribution along global coastlines (excl. Antarctica) is larger than on average across ocean"
   ]
  },
  {
   "cell_type": "code",
   "execution_count": null,
   "metadata": {},
   "outputs": [],
   "source": [
    "print(\"CMSL_rest-GMSL_rest:\",np.around(slc_vaf.get_mean_diff(R0,R,A*LMS_i,LMSA_i)-slc_vaf.get_mean_diff(R0*O0,R*O,A,c.AO),decimals=4))\n",
    "print(\"CMSL_rest-GMSL_glob:\",np.around(slc_vaf.get_mean_diff(R0,R,A*LMS_i,LMSA_i)-slc_gmsl_glob,decimals=4))"
   ]
  }
 ],
 "metadata": {
  "kernelspec": {
   "display_name": "Python3 (ICESHEET)",
   "language": "python",
   "name": "icesheet"
  },
  "language_info": {
   "codemirror_mode": {
    "name": "ipython",
    "version": 3
   },
   "file_extension": ".py",
   "mimetype": "text/x-python",
   "name": "python",
   "nbconvert_exporter": "python",
   "pygments_lexer": "ipython3",
   "version": "3.8.15"
  }
 },
 "nbformat": 4,
 "nbformat_minor": 4
}
