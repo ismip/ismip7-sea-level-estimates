{
 "cells": [
  {
   "cell_type": "markdown",
   "metadata": {},
   "source": [
    "<div class=\"well well-lg\"><h1>Comparison of modified methods to calculate sea level contributions on regional grid</h1></div>"
   ]
  },
  {
   "cell_type": "markdown",
   "metadata": {},
   "source": [
    "This notebook calulates sea-level contributions from an extended ISMIP6 projections, \n",
    "- using different methods (defined in slc)\n",
    "- for the southpolar ISMIP region"
   ]
  },
  {
   "cell_type": "markdown",
   "metadata": {},
   "source": [
    "contact: \n",
    "- Torsten Albrecht (torsten.albrecht@pik-potsdam.de) | Potsdam Institute for Climate Impact Research (PIK) and \n",
    "- Heio Goelzer (HEIG@norceresearch.no) | Norwegian Research Centre (NORCE), Affiliated Bjerknes Centre for Climate Research\n",
    "\n",
    "<div class=\"alert alert-info\">\n",
    "CC-BY: Creative Commons Attribution 4.0 International  \n",
    "</div>"
   ]
  },
  {
   "cell_type": "code",
   "execution_count": null,
   "metadata": {},
   "outputs": [],
   "source": [
    "import matplotlib.pylab as plt\n",
    "from matplotlib import cm, colors\n",
    "import netCDF4 as nc\n",
    "import numpy as np\n",
    "import os, glob\n",
    "\n",
    "# SL methods\n",
    "from slc import slc_vaf\n",
    "from slc import slc_G2020_publ\n",
    "from slc import slc_G2020\n",
    "from slc import slc_A2020\n",
    "\n",
    "# Get constants\n",
    "from slc import sl_constants as c\n",
    "\n",
    "# Plotting\n",
    "from slc import plotting"
   ]
  },
  {
   "cell_type": "code",
   "execution_count": null,
   "metadata": {},
   "outputs": [],
   "source": [
    "# Main data path\n",
    "#datapath = \"..\"\n",
    "datapath = \"/data/projects/ismip7sealevel/files\"\n"
   ]
  },
  {
   "cell_type": "code",
   "execution_count": null,
   "metadata": {},
   "outputs": [],
   "source": [
    "# Relative reference frame for Vaf and G2020\n",
    "def get_slc_estimates(H0,H,B0,B,S0,S,zn0,zn,A):\n",
    "\n",
    "    slc_af = slc_vaf.get_slc_vaf_HBA(H0,H,B0,B,A)\n",
    "    slc_a2020 = slc_A2020.get_slc_A2020(H0,H,B0,B,S0,S,A)\n",
    "    slc_g2020 = slc_G2020_publ.get_slc_G2020(H0,H,B0,B,zn0,zn,A)\n",
    "    slc_diff_ag  = slc_a2020-slc_g2020\n",
    "    slc_diff_va  = slc_af-slc_a2020\n",
    "    slc_diff_vg  = slc_af-slc_g2020\n",
    "\n",
    "    print('sea level change due to VAF:\\t\\t\\t',np.around(slc_af,decimals=4))\n",
    "    print('sea level change due to A2020:\\t\\t\\t',np.around(slc_a2020,decimals=4))\n",
    "    print('sea level change due to G2020:\\t\\t\\t',np.around(slc_g2020,decimals=4))\n",
    "    print('difference vaf-a2020:\\t\\t\\t',np.around(slc_diff_va,decimals=4))\n",
    "    print('difference vaf-g2020:\\t\\t\\t',np.around(slc_diff_vg,decimals=4))\n",
    "    print('difference a2020-g2020:\\t\\t\\t',np.around(slc_diff_ag,decimals=4))\n",
    "    \n",
    "    return (slc_af,slc_g2020,slc_a2020,slc_diff_ag,slc_diff_vg)\n",
    "\n",
    "\n",
    "# Absolute reference frame for Vaf and G2020\n",
    "def get_slc_estimates_abs(H0,H,B0,B,S0,S,A):\n",
    "\n",
    "    slc_af = slc_vaf.get_slc_vaf(H0,H,B0,B,S0,S,A)\n",
    "    slc_a2020 = slc_A2020.get_slc_A2020(H0,H,B0,B,S0,S,A)\n",
    "    slc_g2020 = slc_G2020.get_slc_G2020(H0,H,B0,B,A)\n",
    "    slc_diff_ag  = slc_a2020-slc_g2020\n",
    "    slc_diff_vg  = slc_af-slc_g2020\n",
    "    slc_diff_va  = slc_af-slc_a2020\n",
    "\n",
    "    print('sea level change due to VAF:\\t\\t\\t',np.around(slc_af,decimals=4))\n",
    "    print('sea level change due to A2020:\\t\\t\\t',np.around(slc_a2020,decimals=4))\n",
    "    print('sea level change due to G2020:\\t\\t\\t',np.around(slc_g2020,decimals=4))\n",
    "    print('difference vaf-a2020:\\t\\t\\t',np.around(slc_diff_va,decimals=4))\n",
    "    print('difference vaf-g2020:\\t\\t\\t',np.around(slc_diff_vg,decimals=4))\n",
    "    print('difference a2020-g2020:\\t\\t\\t',np.around(slc_diff_ag,decimals=4))\n",
    "    \n",
    "    return (slc_af,slc_g2020,slc_a2020,slc_diff_ag,slc_diff_vg,slc_diff_va)\n"
   ]
  },
  {
   "cell_type": "code",
   "execution_count": null,
   "metadata": {},
   "outputs": [],
   "source": [
    "# ISMIP6 2300 contribution by PIK_PISM\n",
    "\n",
    "fref =datapath+\"/ismip2300-coupled/pism_vilma_8km_1850.nc\"\n",
    "#\n",
    "f0 =datapath+\"/ismip2300-coupled/pism_vilma_8km_1850.nc\"\n",
    "#f0 =datapath+\"/ismip2300-coupled/pism_vilma_8km_2000.nc\"\n",
    "#f0 =datapath+\"/ismip2300-coupled/pism_vilma_8km_2100.nc\"\n",
    "#f0 =datapath+\"/ismip2300-coupled/pism_vilma_8km_2200.nc\"\n",
    "#\n",
    "#f =datapath+\"/ismip2300-coupled/pism_vilma_8km_2200.nc\"\n",
    "f =datapath+\"/ismip2300-coupled/pism_vilma_8km_2300.nc\"\n",
    "\n",
    "idat = nc.Dataset(fref, 'r')\n",
    "topg_ref_PISM  = idat.variables[\"topg\"][0,:]\n",
    "rsl_ref_PISM  = idat.variables[\"rslc\"][0,:]\n",
    "x_ref_PISM  = idat.variables[\"x\"][:]\n",
    "y_ref_PISM  = idat.variables[\"y\"][:]\n",
    "idat.close()\n",
    "vx, vy = np.meshgrid(x_ref_PISM, y_ref_PISM, indexing='xy') #2d\\n\n",
    "\n",
    "idat = nc.Dataset(f0, 'r')\n",
    "lithk0_PISM  = idat.variables[\"lithk\"][0,:]\n",
    "topg0_PISM  = idat.variables[\"topg\"][0,:]\n",
    "rsl0_PISM  = idat.variables[\"rslc\"][0,:]\n",
    "ur0_PISM  = idat.variables[\"ur\"][0,:]\n",
    "idat.close()\n",
    "H0 = lithk0_PISM\n",
    "B0 = topg_ref_PISM + ur0_PISM\n",
    "S0 = B0 - topg0_PISM\n",
    "Zn0 = -S0\n",
    "\n",
    "idat = nc.Dataset(f, 'r')\n",
    "lithk_PISM  = idat.variables[\"lithk\"][0,:]\n",
    "topg_PISM  = idat.variables[\"topg\"][0,:]\n",
    "rsl_PISM  = idat.variables[\"rslc\"][0,:]\n",
    "ur_PISM  = idat.variables[\"ur\"][0,:]\n",
    "idat.close()\n",
    "# in PISM topg=topg_ref-rsl; to determine changes in B and S separately use ur\n",
    "# B=topg_ref_PISM+ur_PISM\n",
    "# S=\n",
    "H = lithk_PISM\n",
    "B = topg_ref_PISM + ur_PISM\n",
    "S = B - topg_PISM\n",
    "Zn = -S\n",
    "\n",
    "# compare changes to initial and reference state in lower left corner\n",
    "print(topg_PISM[0,0]-topg0_PISM[0,0], rsl_PISM[0,0]-rsl0_PISM[0,0], B[0,0]-B0[0,0], S[0,0])\n",
    "print(topg_PISM[0,0]-topg_ref_PISM[0,0], rsl_PISM[0,0]-rsl_ref_PISM[0,0], B[0,0]-B0[0,0], S[0,0])\n",
    "print(B[0,0]-B0[0,0], S[0,0]-S0[0,0], S[0,0]-S0[0,0]-(B[0,0]-B0[0,0] ), rsl_PISM[0,0]-rsl0_PISM[0,0])\n"
   ]
  },
  {
   "cell_type": "code",
   "execution_count": null,
   "metadata": {},
   "outputs": [],
   "source": [
    "# grid generic info\n",
    "\n",
    "picafile = datapath+\"/ismip2300-coupled/pism_8km_cellarea.nc\"\n",
    "vdat = nc.Dataset(picafile, 'r')\n",
    "ca = vdat.variables[\"cell_area\"][:]\n",
    "vdat.close()\n",
    "\n",
    "A = ca\n",
    "\n",
    "print('ice volume 0', np.sum(H0*A),'m3')\n",
    "print('ice volume 1', np.sum(H*A),'m3')\n"
   ]
  },
  {
   "cell_type": "code",
   "execution_count": null,
   "metadata": {},
   "outputs": [],
   "source": [
    "# Compare reference frame\n",
    "\n",
    "##print('# # # ')\n",
    "#print('PISM-VILMA rel:')\n",
    "#get_slc_estimates(H0,H,B0,B,0,0,0,0,A)\n",
    "\n",
    "##print('# # # ')\n",
    "#print('PISM-VILMA abs:')\n",
    "#get_slc_estimates_abs(H0,H,B0,B,0,0,A)\n",
    "#print('# Same results for absolute and relative formulation of Vaf and G2020 # ')\n",
    "\n",
    "# Compare methods\n",
    "print('# PISM grid # \\n')\n",
    "print('PISM surface: ', np.round(np.sum(A)*1e-12,decimals=4),'million km2\\n')\n",
    "print('Vtot  :\\t\\t\\t',np.around(slc_vaf.get_slc_vtot(H0,H,A),decimals=4))\n",
    "print('Vgr  :\\t\\t\\t',np.around(slc_vaf.get_slc_vgr(H0,H,B0,B,S0,S,A),decimals=4))\n",
    "print('Vaf  :\\t\\t\\t',np.around(slc_vaf.get_slc_vaf(H0,H,B0,B,S0,S,A),decimals=4),'\\n')\n",
    "print('A2020:\\t\\t\\t',np.around(slc_A2020.get_slc_A2020(H0,H,B0,B,S0,S,A),decimals=4))\n",
    "print('G2020:\\t\\t\\t',np.around(slc_G2020.get_slc_G2020(H0,H,B0,B,A),decimals=4))\n"
   ]
  },
  {
   "cell_type": "raw",
   "metadata": {},
   "source": [
    "# Global # (based on compare_slc_PISMVILMA_global.ipynb)\n",
    "Vgr  :\t\t\t 4.7311 m SLE\n",
    "Vaf  :\t\t\t 2.1621 m SLE\n",
    "\n",
    "A2020:\t\t\t 2.2636 m SLE\n",
    "G2020:\t\t\t 2.2954 m SLE\n",
    "\n",
    "GMSL  :\t\t\t 2.2351 m SLE\n",
    "GMSL_abs  :\t\t 2.2671 m SLE\n",
    "CMSL  :\t\t\t 1.9826 m SLE"
   ]
  },
  {
   "cell_type": "code",
   "execution_count": null,
   "metadata": {},
   "outputs": [],
   "source": [
    "plotting.plot_regional(S-S0, vx, vy, 'sea level fingerprint in m')"
   ]
  },
  {
   "cell_type": "code",
   "execution_count": null,
   "metadata": {},
   "outputs": [],
   "source": [
    "plotting.plot_regional(B-B0, vx, vy, 'vertical land motion in m')"
   ]
  },
  {
   "cell_type": "code",
   "execution_count": null,
   "metadata": {},
   "outputs": [],
   "source": [
    "plotting.plot_regional(rsl_PISM-rsl0_PISM, vx, vy, 'relative sea level change in m')"
   ]
  }
 ],
 "metadata": {
  "kernelspec": {
   "display_name": "Python 3 (ipykernel)",
   "language": "python",
   "name": "python3"
  },
  "language_info": {
   "codemirror_mode": {
    "name": "ipython",
    "version": 3
   },
   "file_extension": ".py",
   "mimetype": "text/x-python",
   "name": "python",
   "nbconvert_exporter": "python",
   "pygments_lexer": "ipython3",
   "version": "3.9.20"
  }
 },
 "nbformat": 4,
 "nbformat_minor": 4
}
