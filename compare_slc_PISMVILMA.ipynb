{
 "cells": [
  {
   "cell_type": "code",
   "execution_count": 1,
   "metadata": {},
   "outputs": [],
   "source": [
    "import matplotlib.pylab as plt\n",
    "from matplotlib import cm, colors\n",
    "import netCDF4 as nc\n",
    "import numpy as np\n",
    "import os, glob\n",
    "\n",
    "# SL methods\n",
    "from slc import slc_vaf\n",
    "from slc import slc_G2020_publ\n",
    "from slc import slc_G2020\n",
    "from slc import slc_A2020\n",
    "\n",
    "# Get constants\n",
    "from slc import sl_constants as c"
   ]
  },
  {
   "cell_type": "code",
   "execution_count": 2,
   "metadata": {},
   "outputs": [],
   "source": [
    "# Main data path\n",
    "datapath = \"../\"\n"
   ]
  },
  {
   "cell_type": "code",
   "execution_count": 3,
   "metadata": {},
   "outputs": [],
   "source": [
    "# Relative reference frame for Vaf and G2020\n",
    "def get_slc_estimates(H0,H,B0,B,S0,S,zn0,zn,A):\n",
    "\n",
    "    slc_af = slc_vaf.get_slc_vaf_HBA(H0,H,B0,B,A)\n",
    "    slc_a2020 = slc_A2020.get_slc_A2020(H0,H,B0,B,S0,S,A)\n",
    "    slc_g2020 = slc_G2020_publ.get_slc_G2020(H0,H,B0,B,zn0,zn,A)\n",
    "    slc_diff_ag  = slc_a2020-slc_g2020\n",
    "    slc_diff_va  = slc_af-slc_a2020\n",
    "    slc_diff_vg  = slc_af-slc_g2020\n",
    "\n",
    "    print('sea level change due to VAF:\\t\\t\\t',np.around(slc_af,decimals=4))\n",
    "    print('sea level change due to A2020:\\t\\t\\t',np.around(slc_a2020,decimals=4))\n",
    "    print('sea level change due to G2020:\\t\\t\\t',np.around(slc_g2020,decimals=4))\n",
    "    print('difference vaf-a2020:\\t\\t\\t',np.around(slc_diff_va,decimals=4))\n",
    "    print('difference vaf-g2020:\\t\\t\\t',np.around(slc_diff_vg,decimals=4))\n",
    "    print('difference a2020-g2020:\\t\\t\\t',np.around(slc_diff_ag,decimals=4))\n",
    "    \n",
    "    return (slc_af,slc_g2020,slc_a2020,slc_diff_ag,slc_diff_vg)\n",
    "\n",
    "\n",
    "# Absolute reference frame for Vaf and G2020\n",
    "def get_slc_estimates_abs(H0,H,B0,B,S0,S,A):\n",
    "\n",
    "    slc_af = slc_vaf.get_slc_vaf(H0,H,B0,B,S0,S,A)\n",
    "    slc_a2020 = slc_A2020.get_slc_A2020(H0,H,B0,B,S0,S,A)\n",
    "    slc_g2020 = slc_G2020.get_slc_G2020(H0,H,B0,B,A)\n",
    "    slc_diff_ag  = slc_a2020-slc_g2020\n",
    "    slc_diff_vg  = slc_af-slc_g2020\n",
    "    slc_diff_va  = slc_af-slc_a2020\n",
    "\n",
    "    print('sea level change due to VAF:\\t\\t\\t',np.around(slc_af,decimals=4))\n",
    "    print('sea level change due to A2020:\\t\\t\\t',np.around(slc_a2020,decimals=4))\n",
    "    print('sea level change due to G2020:\\t\\t\\t',np.around(slc_g2020,decimals=4))\n",
    "    print('difference vaf-a2020:\\t\\t\\t',np.around(slc_diff_va,decimals=4))\n",
    "    print('difference vaf-g2020:\\t\\t\\t',np.around(slc_diff_vg,decimals=4))\n",
    "    print('difference a2020-g2020:\\t\\t\\t',np.around(slc_diff_ag,decimals=4))\n",
    "    \n",
    "    return (slc_af,slc_g2020,slc_a2020,slc_diff_ag,slc_diff_vg,slc_diff_va)\n"
   ]
  },
  {
   "cell_type": "code",
   "execution_count": 4,
   "metadata": {},
   "outputs": [
    {
     "name": "stdout",
     "output_type": "stream",
     "text": [
      "-1.6283013709989973 1.6283013709989973 0.541398844509331 2.1697002155083283\n",
      "-1.6283013709989973 1.6283013709989973 0.541398844509331 2.1697002155083283\n",
      "0.541398844509331 2.1697002155083283 1.6283013709989973 1.6283013709989973\n"
     ]
    }
   ],
   "source": [
    "# ISMIP6 2300 contribution by PIK_PISM\n",
    "\n",
    "fref =datapath+\"/ismip2300-coupled/pism_vilma_8km_1850.nc\"\n",
    "#\n",
    "f0 =datapath+\"/ismip2300-coupled/pism_vilma_8km_1850.nc\"\n",
    "#f0 =datapath+\"/ismip2300-coupled/pism_vilma_8km_2000.nc\"\n",
    "#f0 =datapath+\"/ismip2300-coupled/pism_vilma_8km_2100.nc\"\n",
    "#f0 =datapath+\"/ismip2300-coupled/pism_vilma_8km_2200.nc\"\n",
    "#\n",
    "#f =datapath+\"/ismip2300-coupled/pism_vilma_8km_2200.nc\"\n",
    "f =datapath+\"/ismip2300-coupled/pism_vilma_8km_2300.nc\"\n",
    "\n",
    "idat = nc.Dataset(fref, 'r')\n",
    "topg_ref_PISM  = idat.variables[\"topg\"][0,:]\n",
    "rsl_ref_PISM  = idat.variables[\"rslc\"][0,:]\n",
    "idat.close()\n",
    "\n",
    "idat = nc.Dataset(f0, 'r')\n",
    "lithk0_PISM  = idat.variables[\"lithk\"][0,:]\n",
    "topg0_PISM  = idat.variables[\"topg\"][0,:]\n",
    "rsl0_PISM  = idat.variables[\"rslc\"][0,:]\n",
    "ur0_PISM  = idat.variables[\"ur\"][0,:]\n",
    "idat.close()\n",
    "H0 = lithk0_PISM\n",
    "B0 = topg_ref_PISM + ur0_PISM\n",
    "S0 = B0 - topg0_PISM\n",
    "Zn0 = -S0\n",
    "\n",
    "idat = nc.Dataset(f, 'r')\n",
    "lithk_PISM  = idat.variables[\"lithk\"][0,:]\n",
    "topg_PISM  = idat.variables[\"topg\"][0,:]\n",
    "rsl_PISM  = idat.variables[\"rslc\"][0,:]\n",
    "ur_PISM  = idat.variables[\"ur\"][0,:]\n",
    "idat.close()\n",
    "# in PISM topg=topg_ref-rsl; to determine changes in B and S separately use ur\n",
    "# B=topg_ref_PISM+ur_PISM\n",
    "# S=\n",
    "H = lithk_PISM\n",
    "B = topg_ref_PISM + ur_PISM\n",
    "S = B - topg_PISM\n",
    "Zn = -S\n",
    "\n",
    "print(topg_PISM[0,0]-topg0_PISM[0,0], rsl_PISM[0,0]-rsl0_PISM[0,0], B[0,0]-B0[0,0], S[0,0])\n",
    "print(topg_PISM[0,0]-topg_ref_PISM[0,0], rsl_PISM[0,0]-rsl_ref_PISM[0,0], B[0,0]-B0[0,0], S[0,0])\n",
    "print(B[0,0]-B0[0,0], S[0,0]-S0[0,0], S[0,0]-S0[0,0]-(B[0,0]-B0[0,0] ), rsl_PISM[0,0]-rsl0_PISM[0,0])\n"
   ]
  },
  {
   "cell_type": "code",
   "execution_count": 5,
   "metadata": {},
   "outputs": [
    {
     "name": "stdout",
     "output_type": "stream",
     "text": [
      "ice volume 0 2.63672314537379e+16\n",
      "ice volume 1 2.4468539261845704e+16\n"
     ]
    }
   ],
   "source": [
    "# grid generic info\n",
    "\n",
    "picafile = datapath+\"/ismip2300-coupled/pism_8km_cellarea.nc\"\n",
    "vdat = nc.Dataset(picafile, 'r')\n",
    "ca = vdat.variables[\"cell_area\"][:]\n",
    "vdat.close()\n",
    "\n",
    "A = ca\n",
    "\n",
    "print('ice volume 0', np.sum(H0*A))\n",
    "print('ice volume 1', np.sum(H*A))\n"
   ]
  },
  {
   "cell_type": "code",
   "execution_count": 6,
   "metadata": {},
   "outputs": [
    {
     "name": "stdout",
     "output_type": "stream",
     "text": [
      "# PISM grid # \n",
      "PISM surface 36.0287\n",
      "Vtot  :\t\t\t 5.3792\n",
      "Vgr  :\t\t\t 4.6947\n",
      "Vaf  :\t\t\t 2.1093\n",
      "A2020:\t\t\t 2.2123\n",
      "G2020:\t\t\t 2.3055\n"
     ]
    }
   ],
   "source": [
    "# Compare reference frame\n",
    "\n",
    "##print('# # # ')\n",
    "#print('PISM-VILMA rel:')\n",
    "#get_slc_estimates(H0,H,B0,B,0,0,0,0,A)\n",
    "\n",
    "##print('# # # ')\n",
    "#print('PISM-VILMA abs:')\n",
    "#get_slc_estimates_abs(H0,H,B0,B,0,0,A)\n",
    "#print('# Same results for absolute and relative formulation of Vaf and G2020 # ')\n",
    "\n",
    "# Compare methods\n",
    "print('# PISM grid # ')\n",
    "print('PISM surface', np.round(np.sum(A)*1e-12,decimals=4))\n",
    "print('Vtot  :\\t\\t\\t',np.around(slc_vaf.get_slc_vtot(H0,H,A),decimals=4))\n",
    "print('Vgr  :\\t\\t\\t',np.around(slc_vaf.get_slc_vgr(H0,H,B0,B,S0,S,A),decimals=4))\n",
    "print('Vaf  :\\t\\t\\t',np.around(slc_vaf.get_slc_vaf(H0,H,B0,B,S0,S,A),decimals=4))\n",
    "print('A2020:\\t\\t\\t',np.around(slc_A2020.get_slc_A2020(H0,H,B0,B,S0,S,A),decimals=4))\n",
    "print('G2020:\\t\\t\\t',np.around(slc_G2020.get_slc_G2020(H0,H,B0,B,A),decimals=4))\n"
   ]
  },
  {
   "cell_type": "code",
   "execution_count": null,
   "metadata": {},
   "outputs": [],
   "source": []
  },
  {
   "cell_type": "code",
   "execution_count": null,
   "metadata": {},
   "outputs": [],
   "source": []
  },
  {
   "cell_type": "code",
   "execution_count": null,
   "metadata": {},
   "outputs": [],
   "source": []
  }
 ],
 "metadata": {
  "kernelspec": {
   "display_name": "Python 3 (ipykernel)",
   "language": "python",
   "name": "python3"
  },
  "language_info": {
   "codemirror_mode": {
    "name": "ipython",
    "version": 3
   },
   "file_extension": ".py",
   "mimetype": "text/x-python",
   "name": "python",
   "nbconvert_exporter": "python",
   "pygments_lexer": "ipython3",
   "version": "3.9.20"
  }
 },
 "nbformat": 4,
 "nbformat_minor": 4
}
